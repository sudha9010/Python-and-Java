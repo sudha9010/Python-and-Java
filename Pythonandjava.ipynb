{
 "cells": [
  {
   "cell_type": "markdown",
   "metadata": {},
   "source": [
    "In these folder we have both Java and Python programs the main key differences between both Java and Python we can observe are \n",
    "\n",
    "\n",
    "1.Syntax:\n",
    "\n",
    "Java uses curly braces {} to define code blocks and semicolons ; to end statements.\n",
    "Python uses indentation to indicate code blocks.\n",
    "\n",
    "2.User Input:\n",
    "\n",
    "Java uses Scanner for user input.\n",
    "Python uses the input function.\n",
    "\n",
    "3.Function Definition:\n",
    "\n",
    "Java requires explicit type declarations for function parameters and return types.\n",
    "Python has dynamic typing, so no type declarations are needed.\n",
    "\n",
    "4.Printing:\n",
    "\n",
    "Java uses System.out.println for output.\n",
    "Python uses the print function.\n",
    "\n",
    "5.String Formatting:\n",
    "\n",
    "Java concatenates strings with the + operator.\n",
    "Python uses f-strings (formatted string literals) for string interpolation."
   ]
  }
 ],
 "metadata": {
  "kernelspec": {
   "display_name": "Python 3",
   "language": "python",
   "name": "python3"
  },
  "language_info": {
   "codemirror_mode": {
    "name": "ipython",
    "version": 3
   },
   "file_extension": ".py",
   "mimetype": "text/x-python",
   "name": "python",
   "nbconvert_exporter": "python",
   "pygments_lexer": "ipython3",
   "version": "3.10.13"
  }
 },
 "nbformat": 4,
 "nbformat_minor": 2
}
